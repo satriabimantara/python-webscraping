{
 "cells": [
  {
   "cell_type": "markdown",
   "id": "c068dc45",
   "metadata": {},
   "source": [
    "# Introduction\n",
    "***\n",
    "Collect data from another resources (website) using Python. <br>\n",
    "URL Target: <br>\n",
    "https://www.indeed.com/cmp/Google/reviews?fcountry=ALL&start= <br>\n",
    "We will collect employee attributes (rating, review title, review description, pros, and cons)"
   ]
  },
  {
   "cell_type": "markdown",
   "id": "4baa7889",
   "metadata": {},
   "source": [
    "# Install Required Packages"
   ]
  },
  {
   "cell_type": "markdown",
   "id": "304c69b3",
   "metadata": {},
   "source": [
    "# Include Libraries"
   ]
  },
  {
   "cell_type": "code",
   "execution_count": 1,
   "id": "c6d362bf",
   "metadata": {},
   "outputs": [],
   "source": [
    "import numpy as np\n",
    "import pandas as pd\n",
    "from bs4 import BeautifulSoup as BS\n",
    "import requests as rq"
   ]
  },
  {
   "cell_type": "markdown",
   "id": "5176b712",
   "metadata": {},
   "source": [
    "# Start Scraping"
   ]
  },
  {
   "cell_type": "code",
   "execution_count": 2,
   "id": "3183a758",
   "metadata": {},
   "outputs": [],
   "source": [
    "def scraping(full_url):\n",
    "    page_content = BS(full_url.content, 'lxml')\n",
    "    containers = page_content.findAll('div', {\n",
    "        'itemprop': 'review'\n",
    "    })\n",
    "    data = list()\n",
    "    for item in containers:\n",
    "        # find the rating\n",
    "        try:\n",
    "            rating = item.find('div', {\n",
    "                'itemprop': 'reviewRating'\n",
    "            }).find('button').text\n",
    "        except:\n",
    "            rating = None\n",
    "\n",
    "        # find the rating title\n",
    "        try:\n",
    "            rating_title = item.find('h2', {\n",
    "                'data-testid': 'title'\n",
    "            }).find('span').text\n",
    "        except:\n",
    "            rating_title = None\n",
    "\n",
    "        # find rating descriptions\n",
    "        try:\n",
    "            review_descriptions = item.find('span', {\n",
    "                'itemprop': 'reviewBody'\n",
    "            }).find('span').text.replace('\\r', '. ')\n",
    "        except:\n",
    "            review_descriptions = None\n",
    "        \n",
    "        data.append([rating,rating_title,review_descriptions])\n",
    "    \n",
    "    df = pd.DataFrame(\n",
    "        columns = ['rating', 'rating_title', 'rating_descriptions'], data=data\n",
    "    )\n",
    "    return df"
   ]
  },
  {
   "cell_type": "code",
   "execution_count": 3,
   "id": "6581c931",
   "metadata": {},
   "outputs": [],
   "source": [
    "base_url = 'https://www.indeed.com/cmp/Google/reviews?fcountry=ALL&start='\n",
    "num_reviews = 20\n",
    "all_reviews_df = pd.DataFrame(\n",
    "    columns = ['rating', 'rating_title', 'rating_descriptions']\n",
    ")\n",
    "\n",
    "# retrieve 100 number of reviews\n",
    "while num_reviews<101:\n",
    "    full_url = base_url + str(num_reviews)\n",
    "    get_url = rq.get(full_url, timeout=5)\n",
    "    partial_review_df = scraping(get_url)\n",
    "    all_reviews_df = pd.concat([all_reviews_df,partial_review_df],ignore_index=True)\n",
    "    num_reviews+=20\n"
   ]
  },
  {
   "cell_type": "code",
   "execution_count": 4,
   "id": "03ecda66",
   "metadata": {},
   "outputs": [
    {
     "data": {
      "text/html": [
       "<div>\n",
       "<style scoped>\n",
       "    .dataframe tbody tr th:only-of-type {\n",
       "        vertical-align: middle;\n",
       "    }\n",
       "\n",
       "    .dataframe tbody tr th {\n",
       "        vertical-align: top;\n",
       "    }\n",
       "\n",
       "    .dataframe thead th {\n",
       "        text-align: right;\n",
       "    }\n",
       "</style>\n",
       "<table border=\"1\" class=\"dataframe\">\n",
       "  <thead>\n",
       "    <tr style=\"text-align: right;\">\n",
       "      <th></th>\n",
       "      <th>rating</th>\n",
       "      <th>rating_title</th>\n",
       "      <th>rating_descriptions</th>\n",
       "    </tr>\n",
       "  </thead>\n",
       "  <tbody>\n",
       "    <tr>\n",
       "      <th>0</th>\n",
       "      <td>5.0</td>\n",
       "      <td>Great culture great benefit</td>\n",
       "      <td>Great company to work with, hoping to stay for...</td>\n",
       "    </tr>\n",
       "    <tr>\n",
       "      <th>1</th>\n",
       "      <td>1.0</td>\n",
       "      <td>Run!!!! Never work here their turnover rate is...</td>\n",
       "      <td>Google the name is great but management is hor...</td>\n",
       "    </tr>\n",
       "    <tr>\n",
       "      <th>2</th>\n",
       "      <td>5.0</td>\n",
       "      <td>Excelente</td>\n",
       "      <td>El trabajo es muy bueno, saben dividir entre e...</td>\n",
       "    </tr>\n",
       "    <tr>\n",
       "      <th>3</th>\n",
       "      <td>4.0</td>\n",
       "      <td>Buena</td>\n",
       "      <td>Es una empresa muy buena con un buen ambiente ...</td>\n",
       "    </tr>\n",
       "    <tr>\n",
       "      <th>4</th>\n",
       "      <td>3.0</td>\n",
       "      <td>Wonderful place, great people, poor management</td>\n",
       "      <td>The GCCs were a great place to work before COV...</td>\n",
       "    </tr>\n",
       "    <tr>\n",
       "      <th>...</th>\n",
       "      <td>...</td>\n",
       "      <td>...</td>\n",
       "      <td>...</td>\n",
       "    </tr>\n",
       "    <tr>\n",
       "      <th>100</th>\n",
       "      <td>3.0</td>\n",
       "      <td>Meh</td>\n",
       "      <td>Bureaucratic. Managers can be condescending.  ...</td>\n",
       "    </tr>\n",
       "    <tr>\n",
       "      <th>101</th>\n",
       "      <td>4.0</td>\n",
       "      <td>Butler Service</td>\n",
       "      <td>I really enjoy coding at this amazing company....</td>\n",
       "    </tr>\n",
       "    <tr>\n",
       "      <th>102</th>\n",
       "      <td>5.0</td>\n",
       "      <td>fun place to work at</td>\n",
       "      <td>i learned to code better and allot of people a...</td>\n",
       "    </tr>\n",
       "    <tr>\n",
       "      <th>103</th>\n",
       "      <td>5.0</td>\n",
       "      <td>Great place</td>\n",
       "      <td>Love it here. Awesome company to work for. Opp...</td>\n",
       "    </tr>\n",
       "    <tr>\n",
       "      <th>104</th>\n",
       "      <td>2.0</td>\n",
       "      <td>You get recognition for your work but sometime...</td>\n",
       "      <td>You get recognition for your work but sometime...</td>\n",
       "    </tr>\n",
       "  </tbody>\n",
       "</table>\n",
       "<p>105 rows × 3 columns</p>\n",
       "</div>"
      ],
      "text/plain": [
       "    rating                                       rating_title  \\\n",
       "0      5.0                        Great culture great benefit   \n",
       "1      1.0  Run!!!! Never work here their turnover rate is...   \n",
       "2      5.0                                          Excelente   \n",
       "3      4.0                                              Buena   \n",
       "4      3.0    Wonderful place, great people, poor management    \n",
       "..     ...                                                ...   \n",
       "100    3.0                                                Meh   \n",
       "101    4.0                                     Butler Service   \n",
       "102    5.0                              fun place to work at    \n",
       "103    5.0                                        Great place   \n",
       "104    2.0  You get recognition for your work but sometime...   \n",
       "\n",
       "                                   rating_descriptions  \n",
       "0    Great company to work with, hoping to stay for...  \n",
       "1    Google the name is great but management is hor...  \n",
       "2    El trabajo es muy bueno, saben dividir entre e...  \n",
       "3    Es una empresa muy buena con un buen ambiente ...  \n",
       "4    The GCCs were a great place to work before COV...  \n",
       "..                                                 ...  \n",
       "100  Bureaucratic. Managers can be condescending.  ...  \n",
       "101  I really enjoy coding at this amazing company....  \n",
       "102  i learned to code better and allot of people a...  \n",
       "103  Love it here. Awesome company to work for. Opp...  \n",
       "104  You get recognition for your work but sometime...  \n",
       "\n",
       "[105 rows x 3 columns]"
      ]
     },
     "execution_count": 4,
     "metadata": {},
     "output_type": "execute_result"
    }
   ],
   "source": [
    "# show reviews data from scraping\n",
    "all_reviews_df"
   ]
  },
  {
   "cell_type": "code",
   "execution_count": 5,
   "id": "95e2e000",
   "metadata": {},
   "outputs": [],
   "source": [
    "# save reviews data into csv file\n",
    "all_reviews_df.to_csv('dataset/reviews_dataset.csv', index=False)"
   ]
  },
  {
   "cell_type": "code",
   "execution_count": null,
   "id": "9ded5348",
   "metadata": {},
   "outputs": [],
   "source": []
  },
  {
   "cell_type": "code",
   "execution_count": null,
   "id": "03ba21b3",
   "metadata": {},
   "outputs": [],
   "source": []
  }
 ],
 "metadata": {
  "kernelspec": {
   "display_name": "webscraping",
   "language": "python",
   "name": "webscraping"
  },
  "language_info": {
   "codemirror_mode": {
    "name": "ipython",
    "version": 3
   },
   "file_extension": ".py",
   "mimetype": "text/x-python",
   "name": "python",
   "nbconvert_exporter": "python",
   "pygments_lexer": "ipython3",
   "version": "3.10.4"
  },
  "toc": {
   "base_numbering": 1,
   "nav_menu": {},
   "number_sections": true,
   "sideBar": true,
   "skip_h1_title": false,
   "title_cell": "Table of Contents",
   "title_sidebar": "Contents",
   "toc_cell": false,
   "toc_position": {},
   "toc_section_display": true,
   "toc_window_display": false
  }
 },
 "nbformat": 4,
 "nbformat_minor": 5
}
